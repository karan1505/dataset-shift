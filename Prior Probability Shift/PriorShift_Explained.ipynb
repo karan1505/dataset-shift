{
 "cells": [
  {
   "cell_type": "markdown",
   "id": "7c965691",
   "metadata": {},
   "source": [
    "## Prior Probability Shift Demonstration\n",
    "In this notebook, we demonstrate **Prior Probability Shift** using the Breast Cancer Wisconsin dataset. We simulate a shift in the **class distribution `P(Y)`** between training and test sets, while keeping the conditional feature distribution `P(X|Y)` unchanged.\n",
    "\n",
    "For example, a model trained in a hospital where benign tumors are more common may not perform well in regions where malignant tumors dominate."
   ]
  },
  {
   "cell_type": "markdown",
   "id": "25320a39",
   "metadata": {},
   "source": [
    "### Dataset Description\n",
    "We use the [Breast Cancer Wisconsin (Diagnostic) Data Set](https://www.kaggle.com/datasets/uciml/breast-cancer-wisconsin-data).\n",
    "\n",
    "**Target Variable:** `diagnosis` (B = Benign, M = Malignant)\n",
    "**Features:** Mean radius, texture, area, smoothness, etc."
   ]
  },
  {
   "cell_type": "markdown",
   "id": "7b1f1016",
   "metadata": {},
   "source": [
    "### Simulating Prior Probability Shift\n",
    "- Training set: 80% Benign, 20% Malignant\n",
    "- Test set: Balanced (remaining samples)"
   ]
  },
  {
   "cell_type": "markdown",
   "id": "89631a08",
   "metadata": {},
   "source": [
    "### Model Evaluation\n",
    "We use a **Random Forest classifier** and evaluate performance using a classification report and confusion matrix."
   ]
  },
  {
   "cell_type": "markdown",
   "id": "c5cfa5af",
   "metadata": {},
   "source": [
    "### Normalized Confusion Matrix\n",
    "This shows the proportion of correctly and incorrectly predicted samples for each class, normalized by actual label count."
   ]
  },
  {
   "cell_type": "code",
   "execution_count": 1,
   "id": "939ad514",
   "metadata": {},
   "outputs": [
    {
     "data": {
      "text/html": [
       "<div>\n",
       "<style scoped>\n",
       "    .dataframe tbody tr th:only-of-type {\n",
       "        vertical-align: middle;\n",
       "    }\n",
       "\n",
       "    .dataframe tbody tr th {\n",
       "        vertical-align: top;\n",
       "    }\n",
       "\n",
       "    .dataframe thead th {\n",
       "        text-align: right;\n",
       "    }\n",
       "</style>\n",
       "<table border=\"1\" class=\"dataframe\">\n",
       "  <thead>\n",
       "    <tr style=\"text-align: right;\">\n",
       "      <th></th>\n",
       "      <th>diagnosis</th>\n",
       "      <th>radius_mean</th>\n",
       "      <th>texture_mean</th>\n",
       "      <th>perimeter_mean</th>\n",
       "      <th>area_mean</th>\n",
       "      <th>smoothness_mean</th>\n",
       "      <th>compactness_mean</th>\n",
       "      <th>concavity_mean</th>\n",
       "      <th>concave points_mean</th>\n",
       "      <th>symmetry_mean</th>\n",
       "      <th>...</th>\n",
       "      <th>radius_worst</th>\n",
       "      <th>texture_worst</th>\n",
       "      <th>perimeter_worst</th>\n",
       "      <th>area_worst</th>\n",
       "      <th>smoothness_worst</th>\n",
       "      <th>compactness_worst</th>\n",
       "      <th>concavity_worst</th>\n",
       "      <th>concave points_worst</th>\n",
       "      <th>symmetry_worst</th>\n",
       "      <th>fractal_dimension_worst</th>\n",
       "    </tr>\n",
       "  </thead>\n",
       "  <tbody>\n",
       "    <tr>\n",
       "      <th>0</th>\n",
       "      <td>M</td>\n",
       "      <td>17.99</td>\n",
       "      <td>10.38</td>\n",
       "      <td>122.80</td>\n",
       "      <td>1001.0</td>\n",
       "      <td>0.11840</td>\n",
       "      <td>0.27760</td>\n",
       "      <td>0.3001</td>\n",
       "      <td>0.14710</td>\n",
       "      <td>0.2419</td>\n",
       "      <td>...</td>\n",
       "      <td>25.38</td>\n",
       "      <td>17.33</td>\n",
       "      <td>184.60</td>\n",
       "      <td>2019.0</td>\n",
       "      <td>0.1622</td>\n",
       "      <td>0.6656</td>\n",
       "      <td>0.7119</td>\n",
       "      <td>0.2654</td>\n",
       "      <td>0.4601</td>\n",
       "      <td>0.11890</td>\n",
       "    </tr>\n",
       "    <tr>\n",
       "      <th>1</th>\n",
       "      <td>M</td>\n",
       "      <td>20.57</td>\n",
       "      <td>17.77</td>\n",
       "      <td>132.90</td>\n",
       "      <td>1326.0</td>\n",
       "      <td>0.08474</td>\n",
       "      <td>0.07864</td>\n",
       "      <td>0.0869</td>\n",
       "      <td>0.07017</td>\n",
       "      <td>0.1812</td>\n",
       "      <td>...</td>\n",
       "      <td>24.99</td>\n",
       "      <td>23.41</td>\n",
       "      <td>158.80</td>\n",
       "      <td>1956.0</td>\n",
       "      <td>0.1238</td>\n",
       "      <td>0.1866</td>\n",
       "      <td>0.2416</td>\n",
       "      <td>0.1860</td>\n",
       "      <td>0.2750</td>\n",
       "      <td>0.08902</td>\n",
       "    </tr>\n",
       "    <tr>\n",
       "      <th>2</th>\n",
       "      <td>M</td>\n",
       "      <td>19.69</td>\n",
       "      <td>21.25</td>\n",
       "      <td>130.00</td>\n",
       "      <td>1203.0</td>\n",
       "      <td>0.10960</td>\n",
       "      <td>0.15990</td>\n",
       "      <td>0.1974</td>\n",
       "      <td>0.12790</td>\n",
       "      <td>0.2069</td>\n",
       "      <td>...</td>\n",
       "      <td>23.57</td>\n",
       "      <td>25.53</td>\n",
       "      <td>152.50</td>\n",
       "      <td>1709.0</td>\n",
       "      <td>0.1444</td>\n",
       "      <td>0.4245</td>\n",
       "      <td>0.4504</td>\n",
       "      <td>0.2430</td>\n",
       "      <td>0.3613</td>\n",
       "      <td>0.08758</td>\n",
       "    </tr>\n",
       "    <tr>\n",
       "      <th>3</th>\n",
       "      <td>M</td>\n",
       "      <td>11.42</td>\n",
       "      <td>20.38</td>\n",
       "      <td>77.58</td>\n",
       "      <td>386.1</td>\n",
       "      <td>0.14250</td>\n",
       "      <td>0.28390</td>\n",
       "      <td>0.2414</td>\n",
       "      <td>0.10520</td>\n",
       "      <td>0.2597</td>\n",
       "      <td>...</td>\n",
       "      <td>14.91</td>\n",
       "      <td>26.50</td>\n",
       "      <td>98.87</td>\n",
       "      <td>567.7</td>\n",
       "      <td>0.2098</td>\n",
       "      <td>0.8663</td>\n",
       "      <td>0.6869</td>\n",
       "      <td>0.2575</td>\n",
       "      <td>0.6638</td>\n",
       "      <td>0.17300</td>\n",
       "    </tr>\n",
       "    <tr>\n",
       "      <th>4</th>\n",
       "      <td>M</td>\n",
       "      <td>20.29</td>\n",
       "      <td>14.34</td>\n",
       "      <td>135.10</td>\n",
       "      <td>1297.0</td>\n",
       "      <td>0.10030</td>\n",
       "      <td>0.13280</td>\n",
       "      <td>0.1980</td>\n",
       "      <td>0.10430</td>\n",
       "      <td>0.1809</td>\n",
       "      <td>...</td>\n",
       "      <td>22.54</td>\n",
       "      <td>16.67</td>\n",
       "      <td>152.20</td>\n",
       "      <td>1575.0</td>\n",
       "      <td>0.1374</td>\n",
       "      <td>0.2050</td>\n",
       "      <td>0.4000</td>\n",
       "      <td>0.1625</td>\n",
       "      <td>0.2364</td>\n",
       "      <td>0.07678</td>\n",
       "    </tr>\n",
       "  </tbody>\n",
       "</table>\n",
       "<p>5 rows × 31 columns</p>\n",
       "</div>"
      ],
      "text/plain": [
       "  diagnosis  radius_mean  texture_mean  perimeter_mean  area_mean  \\\n",
       "0         M        17.99         10.38          122.80     1001.0   \n",
       "1         M        20.57         17.77          132.90     1326.0   \n",
       "2         M        19.69         21.25          130.00     1203.0   \n",
       "3         M        11.42         20.38           77.58      386.1   \n",
       "4         M        20.29         14.34          135.10     1297.0   \n",
       "\n",
       "   smoothness_mean  compactness_mean  concavity_mean  concave points_mean  \\\n",
       "0          0.11840           0.27760          0.3001              0.14710   \n",
       "1          0.08474           0.07864          0.0869              0.07017   \n",
       "2          0.10960           0.15990          0.1974              0.12790   \n",
       "3          0.14250           0.28390          0.2414              0.10520   \n",
       "4          0.10030           0.13280          0.1980              0.10430   \n",
       "\n",
       "   symmetry_mean  ...  radius_worst  texture_worst  perimeter_worst  \\\n",
       "0         0.2419  ...         25.38          17.33           184.60   \n",
       "1         0.1812  ...         24.99          23.41           158.80   \n",
       "2         0.2069  ...         23.57          25.53           152.50   \n",
       "3         0.2597  ...         14.91          26.50            98.87   \n",
       "4         0.1809  ...         22.54          16.67           152.20   \n",
       "\n",
       "   area_worst  smoothness_worst  compactness_worst  concavity_worst  \\\n",
       "0      2019.0            0.1622             0.6656           0.7119   \n",
       "1      1956.0            0.1238             0.1866           0.2416   \n",
       "2      1709.0            0.1444             0.4245           0.4504   \n",
       "3       567.7            0.2098             0.8663           0.6869   \n",
       "4      1575.0            0.1374             0.2050           0.4000   \n",
       "\n",
       "   concave points_worst  symmetry_worst  fractal_dimension_worst  \n",
       "0                0.2654          0.4601                  0.11890  \n",
       "1                0.1860          0.2750                  0.08902  \n",
       "2                0.2430          0.3613                  0.08758  \n",
       "3                0.2575          0.6638                  0.17300  \n",
       "4                0.1625          0.2364                  0.07678  \n",
       "\n",
       "[5 rows x 31 columns]"
      ]
     },
     "execution_count": 1,
     "metadata": {},
     "output_type": "execute_result"
    }
   ],
   "source": [
    "import pandas as pd\n",
    "\n",
    "# Load and clean dataset\n",
    "df = pd.read_csv('data.csv')\n",
    "df = df.drop(columns=['id', 'Unnamed: 32'])\n",
    "df.head()"
   ]
  },
  {
   "cell_type": "markdown",
   "id": "e8143a5c",
   "metadata": {},
   "source": [
    "**Explanation:** This cell loads the dataset using `pd.read_csv`. It's important to ensure the path is correct and the file exists locally."
   ]
  },
  {
   "cell_type": "code",
   "execution_count": 2,
   "id": "16fde2f8",
   "metadata": {},
   "outputs": [],
   "source": [
    "# Simulate prior probability shift\n",
    "benign = df[df['diagnosis'] == 'B']\n",
    "malignant = df[df['diagnosis'] == 'M']\n",
    "\n",
    "benign_sample = benign.sample(frac=0.8, random_state=42)\n",
    "malignant_sample = malignant.sample(frac=0.2, random_state=42)\n",
    "train_df = pd.concat([benign_sample, malignant_sample])\n",
    "\n",
    "train_indices = train_df.index\n",
    "test_df = df.drop(index=train_indices)"
   ]
  },
  {
   "cell_type": "markdown",
   "id": "861222ae",
   "metadata": {},
   "source": [
    "**Explanation:** This simulates a shift by randomly sampling or dropping rows, depending on the shift type."
   ]
  },
  {
   "cell_type": "code",
   "execution_count": 3,
   "id": "b83d312d",
   "metadata": {},
   "outputs": [],
   "source": [
    "features = df.columns.drop('diagnosis')\n",
    "\n",
    "X_train = train_df[features]\n",
    "y_train = train_df['diagnosis']\n",
    "\n",
    "X_test = test_df[features]\n",
    "y_test = test_df['diagnosis']"
   ]
  },
  {
   "cell_type": "code",
   "execution_count": 4,
   "id": "0255a095",
   "metadata": {},
   "outputs": [
    {
     "name": "stdout",
     "output_type": "stream",
     "text": [
      "Classification Report:\n",
      "\n",
      "              precision    recall  f1-score   support\n",
      "\n",
      "           B       0.68      1.00      0.81        71\n",
      "           M       1.00      0.80      0.89       170\n",
      "\n",
      "    accuracy                           0.86       241\n",
      "   macro avg       0.84      0.90      0.85       241\n",
      "weighted avg       0.90      0.86      0.86       241\n",
      "\n"
     ]
    }
   ],
   "source": [
    "from sklearn.ensemble import RandomForestClassifier\n",
    "from sklearn.metrics import classification_report, confusion_matrix\n",
    "\n",
    "clf = RandomForestClassifier(random_state=42)\n",
    "clf.fit(X_train, y_train)\n",
    "y_pred = clf.predict(X_test)\n",
    "\n",
    "print(\"Classification Report:\\n\")\n",
    "print(classification_report(y_test, y_pred))"
   ]
  },
  {
   "cell_type": "markdown",
   "id": "65e8f5c1",
   "metadata": {},
   "source": [
    "**Explanation:** Random Forest is a robust ensemble model. This line initializes and trains it."
   ]
  },
  {
   "cell_type": "code",
   "execution_count": 5,
   "id": "80350771",
   "metadata": {},
   "outputs": [
    {
     "data": {
      "image/png": "[encoded data removed]",
      "text/plain": [
       "<Figure size 600x500 with 2 Axes>"
      ]
     },
     "metadata": {},
     "output_type": "display_data"
    }
   ],
   "source": [
    "import matplotlib.pyplot as plt\n",
    "import seaborn as sns\n",
    "\n",
    "conf_matrix = confusion_matrix(y_test, y_pred)\n",
    "plt.figure(figsize=(6, 5))\n",
    "sns.heatmap(conf_matrix, annot=True, fmt='d', cmap='Purples', xticklabels=['B', 'M'], yticklabels=['B', 'M'])\n",
    "plt.title(\"Confusion Matrix: Prior Probability Shift\")\n",
    "plt.xlabel(\"Predicted\")\n",
    "plt.ylabel(\"Actual\")\n",
    "plt.tight_layout()\n",
    "plt.show()"
   ]
  },
  {
   "cell_type": "markdown",
   "id": "ee85724b",
   "metadata": {},
   "source": [
    "**Explanation:** This part handles categorical encoding, converting text labels to numeric form so ML models can process them."
   ]
  },
  {
   "cell_type": "code",
   "execution_count": 6,
   "id": "e017949a",
   "metadata": {},
   "outputs": [
    {
     "data": {
      "image/png": "[encoded data removed]",
      "text/plain": [
       "<Figure size 600x500 with 2 Axes>"
      ]
     },
     "metadata": {},
     "output_type": "display_data"
    }
   ],
   "source": [
    "import numpy as np\n",
    "\n",
    "# Normalized confusion matrix\n",
    "conf_matrix_norm = conf_matrix.astype('float') / conf_matrix.sum(axis=1)[:, np.newaxis]\n",
    "plt.figure(figsize=(6, 5))\n",
    "sns.heatmap(conf_matrix_norm, annot=True, fmt='.2f', cmap='Purples', xticklabels=['B', 'M'], yticklabels=['B', 'M'])\n",
    "plt.title(\"Normalized Confusion Matrix\")\n",
    "plt.xlabel(\"Predicted\")\n",
    "plt.ylabel(\"Actual\")\n",
    "plt.tight_layout()\n",
    "plt.show()"
   ]
  },
  {
   "cell_type": "markdown",
   "id": "4e0ee462",
   "metadata": {},
   "source": [
    "**Explanation:** This part handles categorical encoding, converting text labels to numeric form so ML models can process them."
   ]
  },
  {
   "cell_type": "markdown",
   "id": "d1d4548d",
   "metadata": {},
   "source": [
    "### What is Prior Probability Shift?\n",
    "**Prior Probability Shift** occurs when the distribution of labels `P(Y)` changes between training and test datasets, while the feature distribution given the label `P(X|Y)` remains the same.\n",
    "\n",
    "This is different from covariate shift, where the feature distribution changes but the label distribution stays the same."
   ]
  },
  {
   "cell_type": "code",
   "execution_count": 7,
   "id": "6b390311",
   "metadata": {},
   "outputs": [
    {
     "name": "stdout",
     "output_type": "stream",
     "text": [
      "Original Class Distribution:\n",
      "diagnosis\n",
      "B    0.627417\n",
      "M    0.372583\n",
      "Name: proportion, dtype: float64\n"
     ]
    }
   ],
   "source": [
    "# Check original class distribution\n",
    "print(\"Original Class Distribution:\")\n",
    "print(df['diagnosis'].value_counts(normalize=True))"
   ]
  },
  {
   "cell_type": "code",
   "execution_count": 8,
   "id": "05be460f",
   "metadata": {},
   "outputs": [
    {
     "name": "stdout",
     "output_type": "stream",
     "text": [
      "Training Set Class Distribution:\n",
      "diagnosis\n",
      "B    0.871951\n",
      "M    0.128049\n",
      "Name: proportion, dtype: float64\n",
      "Test Set Class Distribution:\n",
      "diagnosis\n",
      "M    0.705394\n",
      "B    0.294606\n",
      "Name: proportion, dtype: float64\n"
     ]
    }
   ],
   "source": [
    "# Check training and testing class distributions after simulating the shift\n",
    "print(\"Training Set Class Distribution:\")\n",
    "print(train_df['diagnosis'].value_counts(normalize=True))\n",
    "\n",
    "print(\"Test Set Class Distribution:\")\n",
    "print(test_df['diagnosis'].value_counts(normalize=True))"
   ]
  },
  {
   "cell_type": "code",
   "execution_count": 9,
   "id": "d5674f37",
   "metadata": {},
   "outputs": [
    {
     "data": {
      "image/png": "[encoded data removed]",
      "text/plain": [
       "<Figure size 600x400 with 1 Axes>"
      ]
     },
     "metadata": {},
     "output_type": "display_data"
    }
   ],
   "source": [
    "import matplotlib.pyplot as plt\n",
    "\n",
    "# Plot class distributions\n",
    "plt.figure(figsize=(6, 4))\n",
    "plt.bar(['Train - Benign', 'Train - Malignant'],\n",
    "        [train_df['diagnosis'].value_counts()['B'], train_df['diagnosis'].value_counts()['M']],\n",
    "        color='skyblue', label='Train')\n",
    "plt.bar(['Test - Benign', 'Test - Malignant'],\n",
    "        [test_df['diagnosis'].value_counts()['B'], test_df['diagnosis'].value_counts()['M']],\n",
    "        color='salmon', label='Test')\n",
    "plt.title(\"Class Distribution in Train vs Test\")\n",
    "plt.ylabel(\"Count\")\n",
    "plt.xticks(rotation=45)\n",
    "plt.tight_layout()\n",
    "plt.show()"
   ]
  },
  {
   "cell_type": "markdown",
   "id": "723a7dad",
   "metadata": {},
   "source": [
    "### Logistic Regression Comparison\n",
    "Now let's compare how a simpler model like Logistic Regression performs under the same shift."
   ]
  },
  {
   "cell_type": "code",
   "execution_count": 10,
   "id": "c7922fc7",
   "metadata": {},
   "outputs": [],
   "source": [
    "from sklearn.linear_model import LogisticRegression\n",
    "from sklearn.preprocessing import StandardScaler\n",
    "from sklearn.pipeline import Pipeline\n",
    "\n",
    "logreg_pipeline = Pipeline([\n",
    "    ('scaler', StandardScaler()),\n",
    "    ('classifier', LogisticRegression(max_iter=1000, random_state=42))\n",
    "])\n",
    "\n",
    "logreg_pipeline.fit(X_train, y_train)\n",
    "y_logreg_pred = logreg_pipeline.predict(X_test)"
   ]
  },
  {
   "cell_type": "markdown",
   "id": "0fd4dcbc",
   "metadata": {},
   "source": [
    "**Explanation:** We use the trained model to make predictions on the test set."
   ]
  },
  {
   "cell_type": "code",
   "execution_count": 11,
   "id": "9d8b51bc",
   "metadata": {},
   "outputs": [
    {
     "name": "stdout",
     "output_type": "stream",
     "text": [
      "Logistic Regression Classification Report:\n",
      "\n",
      "              precision    recall  f1-score   support\n",
      "\n",
      "           B       0.78      1.00      0.88        71\n",
      "           M       1.00      0.88      0.94       170\n",
      "\n",
      "    accuracy                           0.92       241\n",
      "   macro avg       0.89      0.94      0.91       241\n",
      "weighted avg       0.94      0.92      0.92       241\n",
      "\n"
     ]
    }
   ],
   "source": [
    "print(\"Logistic Regression Classification Report:\\n\")\n",
    "from sklearn.metrics import classification_report\n",
    "print(classification_report(y_test, y_logreg_pred))"
   ]
  },
  {
   "cell_type": "markdown",
   "id": "4a6eae31",
   "metadata": {},
   "source": [
    "**Explanation:** This generates precision, recall, and F1-score metrics for evaluation."
   ]
  },
  {
   "cell_type": "markdown",
   "id": "255a016a",
   "metadata": {},
   "source": [
    "### Accuracy Comparison\n",
    "Compare model performance under the shifted distribution."
   ]
  },
  {
   "cell_type": "code",
   "execution_count": 12,
   "id": "8ddf265e",
   "metadata": {},
   "outputs": [
    {
     "name": "stdout",
     "output_type": "stream",
     "text": [
      "Random Forest Accuracy: 0.8589\n",
      "Logistic Regression Accuracy: 0.9170\n"
     ]
    }
   ],
   "source": [
    "from sklearn.metrics import accuracy_score\n",
    "\n",
    "acc_rf = accuracy_score(y_test, y_pred)\n",
    "acc_log = accuracy_score(y_test, y_logreg_pred)\n",
    "\n",
    "print(f\"Random Forest Accuracy: {acc_rf:.4f}\")\n",
    "print(f\"Logistic Regression Accuracy: {acc_log:.4f}\")"
   ]
  },
  {
   "cell_type": "markdown",
   "id": "54e28906",
   "metadata": {},
   "source": [
    "**Explanation:** This calculates overall accuracy for performance comparison."
   ]
  },
  {
   "cell_type": "code",
   "execution_count": 13,
   "id": "317a4d72",
   "metadata": {},
   "outputs": [
    {
     "data": {
      "image/png": "[encoded data removed]",
      "text/plain": [
       "<Figure size 600x600 with 1 Axes>"
      ]
     },
     "metadata": {},
     "output_type": "display_data"
    }
   ],
   "source": [
    "plt.figure(figsize=(6, 6))\n",
    "plt.bar(['Random Forest', 'Logistic Regression'], [acc_rf, acc_log], color=['green', 'orange'])\n",
    "plt.ylim(0, 1)\n",
    "plt.ylabel(\"Accuracy\")\n",
    "plt.title(\"Model Accuracy Comparison under Prior Probability Shift\")\n",
    "plt.tight_layout()\n",
    "plt.show()"
   ]
  },
  {
   "cell_type": "code",
   "execution_count": 21,
   "id": "c4ea3790",
   "metadata": {},
   "outputs": [
    {
     "name": "stdout",
     "output_type": "stream",
     "text": [
      "Resampled Training Class Distribution:\n",
      "diagnosis\n",
      "B    286\n",
      "M    286\n",
      "Name: count, dtype: int64\n"
     ]
    }
   ],
   "source": [
    "from imblearn.over_sampling import SMOTE\n",
    "\n",
    "# Apply SMOTE to training data\n",
    "smote = SMOTE(random_state=42)\n",
    "X_train_resampled, y_train_resampled = smote.fit_resample(X_train, y_train)\n",
    "\n",
    "# Check new class balance\n",
    "print(\"Resampled Training Class Distribution:\")\n",
    "print(pd.Series(y_train_resampled).value_counts())\n"
   ]
  },
  {
   "cell_type": "markdown",
   "id": "da8d72ad",
   "metadata": {},
   "source": [
    "**Explanation:** This simulates a shift by randomly sampling or dropping rows, depending on the shift type."
   ]
  },
  {
   "cell_type": "code",
   "execution_count": 22,
   "id": "50cc2089",
   "metadata": {},
   "outputs": [],
   "source": [
    "# Random Forest on resampled data\n",
    "clf_smote = RandomForestClassifier(random_state=42)\n",
    "clf_smote.fit(X_train_resampled, y_train_resampled)\n",
    "y_pred_smote = clf_smote.predict(X_test)\n"
   ]
  },
  {
   "cell_type": "markdown",
   "id": "d6ee751c",
   "metadata": {},
   "source": [
    "**Explanation:** This simulates a shift by randomly sampling or dropping rows, depending on the shift type."
   ]
  },
  {
   "cell_type": "code",
   "execution_count": 23,
   "id": "9973e758",
   "metadata": {},
   "outputs": [],
   "source": [
    "# Logistic Regression on resampled data (with scaling)\n",
    "logreg_pipeline_smote = Pipeline([\n",
    "    ('scaler', StandardScaler()),\n",
    "    ('classifier', LogisticRegression(max_iter=1000, random_state=42))\n",
    "])\n",
    "logreg_pipeline_smote.fit(X_train_resampled, y_train_resampled)\n",
    "y_logreg_pred_smote = logreg_pipeline_smote.predict(X_test)\n"
   ]
  },
  {
   "cell_type": "markdown",
   "id": "7d850dd4",
   "metadata": {},
   "source": [
    "**Explanation:** This simulates a shift by randomly sampling or dropping rows, depending on the shift type."
   ]
  },
  {
   "cell_type": "code",
   "execution_count": 24,
   "id": "848dfe74",
   "metadata": {},
   "outputs": [
    {
     "data": {
      "image/png": "[encoded data removed]",
      "text/plain": [
       "<Figure size 800x600 with 1 Axes>"
      ]
     },
     "metadata": {},
     "output_type": "display_data"
    }
   ],
   "source": [
    "from sklearn.metrics import roc_curve, auc\n",
    "import matplotlib.pyplot as plt\n",
    "\n",
    "# Predict probabilities\n",
    "rf_probs = clf_smote.predict_proba(X_test)[:, 1]\n",
    "logreg_probs = logreg_pipeline_smote.predict_proba(X_test)[:, 1]\n",
    "\n",
    "# Compute ROC curves\n",
    "fpr_rf, tpr_rf, _ = roc_curve(y_test.map({'B': 0, 'M': 1}), rf_probs)\n",
    "fpr_log, tpr_log, _ = roc_curve(y_test.map({'B': 0, 'M': 1}), logreg_probs)\n",
    "\n",
    "# Compute AUC\n",
    "auc_rf = auc(fpr_rf, tpr_rf)\n",
    "auc_log = auc(fpr_log, tpr_log)\n",
    "\n",
    "# Plot ROC curves\n",
    "plt.figure(figsize=(8, 6))\n",
    "plt.plot(fpr_rf, tpr_rf, label=f\"Random Forest (AUC = {auc_rf:.2f})\", color='green')\n",
    "plt.plot(fpr_log, tpr_log, label=f\"Logistic Regression (AUC = {auc_log:.2f})\", color='orange')\n",
    "plt.plot([0, 1], [0, 1], linestyle='--', color='gray')  # Diagonal line\n",
    "plt.xlabel(\"False Positive Rate\")\n",
    "plt.ylabel(\"True Positive Rate\")\n",
    "plt.title(\"ROC Curve after SMOTE Resampling\")\n",
    "plt.legend()\n",
    "plt.grid(True)\n",
    "plt.tight_layout()\n",
    "plt.show()\n"
   ]
  },
  {
   "cell_type": "markdown",
   "id": "30f7e251",
   "metadata": {},
   "source": [
    "**Explanation:** This part handles categorical encoding, converting text labels to numeric form so ML models can process them."
   ]
  },
  {
   "cell_type": "markdown",
   "id": "0955ca30",
   "metadata": {},
   "source": [
    "### Key Takeaway\n",
    "This notebook shows how a change in class balance (Prior Probability Shift) can impact model generalization.\n",
    "\n",
    "- **Random Forest** generally handles imbalance better.\n",
    "- **Logistic Regression** can struggle more with imbalance if not adjusted (e.g., with class weights or sampling)."
   ]
  }
 ],
 "metadata": {
  "kernelspec": {
   "display_name": ".venv",
   "language": "python",
   "name": "python3"
  },
  "language_info": {
   "codemirror_mode": {
    "name": "ipython",
    "version": 3
   },
   "file_extension": ".py",
   "mimetype": "text/x-python",
   "name": "python",
   "nbconvert_exporter": "python",
   "pygments_lexer": "ipython3",
   "version": "3.10.7"
  }
 },
 "nbformat": 4,
 "nbformat_minor": 5
}
